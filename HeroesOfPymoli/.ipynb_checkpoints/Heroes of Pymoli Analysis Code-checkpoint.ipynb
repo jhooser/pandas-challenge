{
 "cells": [
  {
   "cell_type": "markdown",
   "metadata": {},
   "source": [
    "This will be my first foray of analysis in the business world.  I'm trying to analyze game user data via Pandas."
   ]
  },
  {
   "cell_type": "code",
   "execution_count": 50,
   "metadata": {},
   "outputs": [
    {
     "data": {
      "text/html": [
       "<div>\n",
       "<style scoped>\n",
       "    .dataframe tbody tr th:only-of-type {\n",
       "        vertical-align: middle;\n",
       "    }\n",
       "\n",
       "    .dataframe tbody tr th {\n",
       "        vertical-align: top;\n",
       "    }\n",
       "\n",
       "    .dataframe thead th {\n",
       "        text-align: right;\n",
       "    }\n",
       "</style>\n",
       "<table border=\"1\" class=\"dataframe\">\n",
       "  <thead>\n",
       "    <tr style=\"text-align: right;\">\n",
       "      <th></th>\n",
       "      <th>Purchase ID</th>\n",
       "      <th>SN</th>\n",
       "      <th>Age</th>\n",
       "      <th>Gender</th>\n",
       "      <th>Item ID</th>\n",
       "      <th>Item Name</th>\n",
       "      <th>Price</th>\n",
       "    </tr>\n",
       "  </thead>\n",
       "  <tbody>\n",
       "    <tr>\n",
       "      <td>0</td>\n",
       "      <td>0</td>\n",
       "      <td>Lisim78</td>\n",
       "      <td>20</td>\n",
       "      <td>Male</td>\n",
       "      <td>108</td>\n",
       "      <td>Extraction, Quickblade Of Trembling Hands</td>\n",
       "      <td>3.53</td>\n",
       "    </tr>\n",
       "    <tr>\n",
       "      <td>1</td>\n",
       "      <td>1</td>\n",
       "      <td>Lisovynya38</td>\n",
       "      <td>40</td>\n",
       "      <td>Male</td>\n",
       "      <td>143</td>\n",
       "      <td>Frenzied Scimitar</td>\n",
       "      <td>1.56</td>\n",
       "    </tr>\n",
       "    <tr>\n",
       "      <td>2</td>\n",
       "      <td>2</td>\n",
       "      <td>Ithergue48</td>\n",
       "      <td>24</td>\n",
       "      <td>Male</td>\n",
       "      <td>92</td>\n",
       "      <td>Final Critic</td>\n",
       "      <td>4.88</td>\n",
       "    </tr>\n",
       "    <tr>\n",
       "      <td>3</td>\n",
       "      <td>3</td>\n",
       "      <td>Chamassasya86</td>\n",
       "      <td>24</td>\n",
       "      <td>Male</td>\n",
       "      <td>100</td>\n",
       "      <td>Blindscythe</td>\n",
       "      <td>3.27</td>\n",
       "    </tr>\n",
       "    <tr>\n",
       "      <td>4</td>\n",
       "      <td>4</td>\n",
       "      <td>Iskosia90</td>\n",
       "      <td>23</td>\n",
       "      <td>Male</td>\n",
       "      <td>131</td>\n",
       "      <td>Fury</td>\n",
       "      <td>1.44</td>\n",
       "    </tr>\n",
       "  </tbody>\n",
       "</table>\n",
       "</div>"
      ],
      "text/plain": [
       "   Purchase ID             SN  Age Gender  Item ID  \\\n",
       "0            0        Lisim78   20   Male      108   \n",
       "1            1    Lisovynya38   40   Male      143   \n",
       "2            2     Ithergue48   24   Male       92   \n",
       "3            3  Chamassasya86   24   Male      100   \n",
       "4            4      Iskosia90   23   Male      131   \n",
       "\n",
       "                                   Item Name  Price  \n",
       "0  Extraction, Quickblade Of Trembling Hands   3.53  \n",
       "1                          Frenzied Scimitar   1.56  \n",
       "2                               Final Critic   4.88  \n",
       "3                                Blindscythe   3.27  \n",
       "4                                       Fury   1.44  "
      ]
     },
     "execution_count": 50,
     "metadata": {},
     "output_type": "execute_result"
    }
   ],
   "source": [
    "#Import my dependencies\n",
    "import pandas as pd\n",
    "#Set up the file path and download the information as a dataframe\n",
    "file_to_load = \"Resources/purchase_data.csv\"\n",
    "#read my data and store it as a dataframe\n",
    "purchase_data = pd.read_csv(file_to_load)\n",
    "purchase_data.head()"
   ]
  },
  {
   "cell_type": "markdown",
   "metadata": {},
   "source": [
    "### Calculate total number of users"
   ]
  },
  {
   "cell_type": "code",
   "execution_count": 51,
   "metadata": {},
   "outputs": [
    {
     "name": "stdout",
     "output_type": "stream",
     "text": [
      "   Total Users\n",
      "0          576\n"
     ]
    }
   ],
   "source": [
    "#The following code pulls only the unique SN values \n",
    "unique_users = purchase_data.drop_duplicates(\"SN\")\n",
    "users = len(unique_users[\"SN\"])\n",
    "summary_users = pd.DataFrame({\"Total Users\":[users]})\n",
    "print(summary_users)"
   ]
  },
  {
   "cell_type": "markdown",
   "metadata": {},
   "source": [
    "### Perform basic calculations"
   ]
  },
  {
   "cell_type": "code",
   "execution_count": 64,
   "metadata": {},
   "outputs": [
    {
     "name": "stdout",
     "output_type": "stream",
     "text": [
      "   Number of Items Total Average  Number of Purchases Total Revenue\n",
      "0              183         $3.05                  780      $2379.77\n"
     ]
    }
   ],
   "source": [
    "#create a list of unique item names\n",
    "unique_items = purchase_data.drop_duplicates(\"Item ID\")\n",
    "# store the length of the list as a variable\n",
    "item_num = len(unique_items[\"Item ID\"])\n",
    "#display the variable\n",
    "#print(f\"Number of items:{item_num}\")\n",
    "\n",
    "#calculate average price and store as a variable\n",
    "price_avg = round(purchase_data[\"Price\"].mean(),2)\n",
    "#display the variable\n",
    "#print(f\"Average price:{price_avg}\")\n",
    "\n",
    "#Create a unique list of purchases made\n",
    "unique_purchases = purchase_data.drop_duplicates(\"Purchase ID\")\n",
    "#Store the length of the list as a variable\n",
    "purchases = len(unique_purchases[\"Purchase ID\"])\n",
    "#display the variable\n",
    "#print(f\"Number of purchases:{purchases}\")\n",
    "\n",
    "#calculate total revenue and store it as a variable\n",
    "revenue = purchase_data[\"Price\"].sum()\n",
    "#display the variable\n",
    "#print(f\"Total Revenue:{revenue}\")\n",
    "\n",
    "# Format the above results into a table\n",
    "summary_table_purchases = pd.DataFrame({\"Number of Items\": [item_num],\n",
    "                                        \"Total Average\": [price_avg],\n",
    "                                        \"Number of Purchases\": [purchases],\n",
    "                                        \"Total Revenue\": [revenue]})\n",
    "#applying special formatting so that everything is more readable\n",
    "summary_table_purchases[\"Total Average\"] = summary_table_purchases[\"Total Average\"].map(\"${:.2f}\".format)\n",
    "summary_table_purchases[\"Total Revenue\"] = summary_table_purchases[\"Total Revenue\"].map(\"${:.2f}\".format)\n",
    "\n",
    "#display the table\n",
    "print(summary_table_purchases)"
   ]
  },
  {
   "cell_type": "markdown",
   "metadata": {},
   "source": [
    "### Gender Demographics"
   ]
  },
  {
   "cell_type": "code",
   "execution_count": 53,
   "metadata": {},
   "outputs": [
    {
     "name": "stdout",
     "output_type": "stream",
     "text": [
      "Number of Males:484\n",
      "Percentage of Males:84.0\n"
     ]
    }
   ],
   "source": [
    "#create a list of males from the unique users dataset and save the length of the list as a variable\n",
    "males = len(unique_users.loc[unique_users[\"Gender\"] == \"Male\",:]) \n",
    "#calculate the percentage of male users compared to the total player base\n",
    "male_percent = round(males/users,2)*100\n",
    "#display the calculations\n",
    "print(f\"Number of Males:{males}\")\n",
    "print(f\"Percentage of Males:{male_percent}\")"
   ]
  },
  {
   "cell_type": "code",
   "execution_count": 54,
   "metadata": {},
   "outputs": [
    {
     "name": "stdout",
     "output_type": "stream",
     "text": [
      "Number of Females:81\n",
      "Percentage of Females:14.000000000000002\n"
     ]
    }
   ],
   "source": [
    "#create a list of females from the unique users dataset and save the length of the list as a variable\n",
    "females = len(unique_users.loc[unique_users[\"Gender\"]== \"Female\",:])\n",
    "#calculate the percentage of female users compared to the total player base\n",
    "female_percent = round(females/users,2)*100\n",
    "#display the calculations\n",
    "print(f\"Number of Females:{females}\")\n",
    "print(f\"Percentage of Females:{female_percent}\")"
   ]
  },
  {
   "cell_type": "code",
   "execution_count": 55,
   "metadata": {},
   "outputs": [
    {
     "name": "stdout",
     "output_type": "stream",
     "text": [
      "Number of Others:11\n",
      "Percentage of Others:2.0\n"
     ]
    }
   ],
   "source": [
    "#Create a list of other genders from the unique users dataset and save the length of the list as a variable\n",
    "others = len(unique_users.loc[unique_users[\"Gender\"] == \"Other / Non-Disclosed\",:])\n",
    "#calculate the percentage of other users compared to the total player base\n",
    "others_percent = round(others/users,2)*100\n",
    "print(f\"Number of Others:{others}\")\n",
    "print(f\"Percentage of Others:{others_percent}\")"
   ]
  },
  {
   "cell_type": "code",
   "execution_count": 56,
   "metadata": {},
   "outputs": [
    {
     "name": "stdout",
     "output_type": "stream",
     "text": [
      "                       Users Percentages\n",
      "Male                     484         84%\n",
      "Female                    81         14%\n",
      "Other / Non-Disclosed     11          2%\n"
     ]
    }
   ],
   "source": [
    "#Create a summary table based on the above calculations\n",
    "summary_table_gender = pd.DataFrame({\"Users\": [males, females, others],\n",
    "                                        \"Percentages\": [male_percent,female_percent,others_percent]},\n",
    "                                   index=[\"Male\",\"Female\",\"Other / Non-Disclosed\"])\n",
    "#Format the table\n",
    "summary_table_gender[\"Percentages\"] = summary_table_gender[\"Percentages\"].map(\"{:.0f}%\".format)\n",
    "#Display the table\n",
    "print(summary_table_gender)"
   ]
  },
  {
   "cell_type": "markdown",
   "metadata": {},
   "source": [
    "### Purchase Analysis By Gender"
   ]
  },
  {
   "cell_type": "code",
   "execution_count": 57,
   "metadata": {},
   "outputs": [
    {
     "name": "stdout",
     "output_type": "stream",
     "text": [
      "Gender\n",
      "Female                   113\n",
      "Male                     652\n",
      "Other / Non-Disclosed     15\n",
      "Name: Purchase ID, dtype: int64\n",
      " \n",
      "Gender\n",
      "Female                   3.203009\n",
      "Male                     3.017853\n",
      "Other / Non-Disclosed    3.346000\n",
      "Name: Price, dtype: float64\n",
      " \n",
      "Gender\n",
      "Female                    361.94\n",
      "Male                     1967.64\n",
      "Other / Non-Disclosed      50.19\n",
      "Name: Price, dtype: float64\n",
      "Gender                 SN           \n",
      "Female                 Adastirin33      4.480\n",
      "                       Aerithllora36    4.320\n",
      "                       Aethedru70       3.540\n",
      "                       Aidain51         3.450\n",
      "                       Aiduesu86        4.480\n",
      "                                        ...  \n",
      "Other / Non-Disclosed  Lirtim36         1.330\n",
      "                       Maluncil97       2.640\n",
      "                       Rairith81        2.220\n",
      "                       Siarithria38     3.455\n",
      "                       Sundim98         4.750\n",
      "Name: Price, Length: 576, dtype: float64\n"
     ]
    }
   ],
   "source": [
    "#Create a subset of data for our purchase analysis\n",
    "gender_purchases = purchase_data[[\"Purchase ID\",\"SN\",\"Gender\",\"Price\"]]\n",
    "#Count of purchases per gender\n",
    "gender_gp = gender_purchases.groupby(\"Gender\").count()\n",
    "purchase_gen = gender_gp[\"Purchase ID\"]\n",
    "print(purchase_gen)\n",
    "print(\" \")\n",
    "#Average purchase price per gender\n",
    "average_gp = gender_purchases.groupby(\"Gender\").mean()\n",
    "average_gen = average_gp[\"Price\"]\n",
    "print(average_gen)\n",
    "print(\" \")\n",
    "#Total Purchase values\n",
    "sum_gp = gender_purchases.groupby(\"Gender\").sum()\n",
    "print(sum_gp[\"Price\"])\n",
    "#Average purchase per person by gender\n",
    "gender_individual = gender_purchases.groupby([\"Gender\",\"SN\"]).mean()\n",
    "print(gender_individual[\"Price\"])"
   ]
  },
  {
   "cell_type": "markdown",
   "metadata": {},
   "source": [
    "###Age Demographics"
   ]
  },
  {
   "cell_type": "code",
   "execution_count": 60,
   "metadata": {},
   "outputs": [
    {
     "name": "stdout",
     "output_type": "stream",
     "text": [
      "Age Demographics\n",
      "7-10      24\n",
      "11-14     15\n",
      "15-18     90\n",
      "19-22    178\n",
      "23-26    151\n",
      "27-30     48\n",
      "31-34     27\n",
      "35-38     25\n",
      "39-42     14\n",
      "43-46      4\n",
      "47-50      0\n",
      "Name: Purchase ID, dtype: int64\n",
      "Age Demographics\n",
      "7-10     3.424167\n",
      "11-14    2.872667\n",
      "15-18    3.076000\n",
      "19-22    3.054719\n",
      "23-26    3.090199\n",
      "27-30    2.875625\n",
      "31-34    2.699630\n",
      "35-38    3.419600\n",
      "39-42    3.479286\n",
      "43-46    2.765000\n",
      "47-50         NaN\n",
      "Name: Price, dtype: float64\n",
      "Age Demographics\n",
      "7-10      82.18\n",
      "11-14     43.09\n",
      "15-18    276.84\n",
      "19-22    543.74\n",
      "23-26    466.62\n",
      "27-30    138.03\n",
      "31-34     72.89\n",
      "35-38     85.49\n",
      "39-42     48.71\n",
      "43-46     11.06\n",
      "47-50      0.00\n",
      "Name: Price, dtype: float64\n",
      "Age Demographics  SN           \n",
      "7-10              Adairialis76    NaN\n",
      "                  Adastirin33     NaN\n",
      "                  Aeda94          NaN\n",
      "                  Aela59          NaN\n",
      "                  Aelaria33       NaN\n",
      "                                   ..\n",
      "47-50             Yathecal82      NaN\n",
      "                  Yathedeu43      NaN\n",
      "                  Yoishirrala98   NaN\n",
      "                  Zhisrisu83      NaN\n",
      "                  Zontibe81       NaN\n",
      "Name: Price, Length: 6336, dtype: float64\n"
     ]
    },
    {
     "name": "stderr",
     "output_type": "stream",
     "text": [
      "C:\\Users\\Samsung\\Anaconda3\\lib\\site-packages\\ipykernel_launcher.py:6: SettingWithCopyWarning: \n",
      "A value is trying to be set on a copy of a slice from a DataFrame.\n",
      "Try using .loc[row_indexer,col_indexer] = value instead\n",
      "\n",
      "See the caveats in the documentation: http://pandas.pydata.org/pandas-docs/stable/user_guide/indexing.html#returning-a-view-versus-a-copy\n",
      "  \n"
     ]
    }
   ],
   "source": [
    "#Set up bins\n",
    "bins = [6,10,14,18,22,26,30,34,38,42,46,50]\n",
    "#Set up group names\n",
    "group_names = [\"7-10\",\"11-14\",\"15-18\",\"19-22\",\"23-26\",\"27-30\",\"31-34\",\"35-38\",\"39-42\",\"43-46\",\"47-50\"]\n",
    "#Add Age demographics column to the data set\n",
    "unique_users[\"Age Demographics\"]= pd.cut(unique_users[\"Age\"],bins,labels = group_names)\n",
    "#Create age demographic groupby object\n",
    "age_demo = unique_users.groupby(\"Age Demographics\")\n",
    "#get purchase count\n",
    "print(age_demo[\"Purchase ID\"].count())\n",
    "#average purchase price\n",
    "print(age_demo[\"Price\"].mean())\n",
    "#total purchase value\n",
    "print(age_demo[\"Price\"].sum())\n",
    "#Average purchase total per Person by Age Group\n",
    "age_individual = unique_users.groupby([\"Age Demographics\",\"SN\"])\n",
    "print(age_individual[\"Price\"].mean())\n"
   ]
  },
  {
   "cell_type": "code",
   "execution_count": 61,
   "metadata": {},
   "outputs": [
    {
     "name": "stdout",
     "output_type": "stream",
     "text": [
      "             # of Purchases Avg Purchase Total Spent\n",
      "SN                                                  \n",
      "Lisosia93                 5        $3.79      $18.96\n",
      "Idastidru52               4        $3.86      $15.45\n",
      "Chamjask73                3        $4.61      $13.83\n",
      "Iral74                    4        $3.40      $13.62\n",
      "Iskadarya95               3        $4.37      $13.10\n"
     ]
    },
    {
     "name": "stderr",
     "output_type": "stream",
     "text": [
      "C:\\Users\\Samsung\\Anaconda3\\lib\\site-packages\\ipykernel_launcher.py:20: SettingWithCopyWarning: \n",
      "A value is trying to be set on a copy of a slice from a DataFrame.\n",
      "Try using .loc[row_indexer,col_indexer] = value instead\n",
      "\n",
      "See the caveats in the documentation: http://pandas.pydata.org/pandas-docs/stable/user_guide/indexing.html#returning-a-view-versus-a-copy\n",
      "C:\\Users\\Samsung\\Anaconda3\\lib\\site-packages\\ipykernel_launcher.py:21: SettingWithCopyWarning: \n",
      "A value is trying to be set on a copy of a slice from a DataFrame.\n",
      "Try using .loc[row_indexer,col_indexer] = value instead\n",
      "\n",
      "See the caveats in the documentation: http://pandas.pydata.org/pandas-docs/stable/user_guide/indexing.html#returning-a-view-versus-a-copy\n"
     ]
    }
   ],
   "source": [
    "#Top Spenders\n",
    "\n",
    "#Create a group.by object by screen name\n",
    "top_spenders = purchase_data.groupby(purchase_data[\"SN\"])\n",
    "#Create a dataframe using total price\n",
    "newdf = pd.DataFrame(top_spenders['Price'].sum())\n",
    "#Add new '# of Purchases' column drawing from the group.by object's price count\n",
    "newdf['# of Purchases'] = top_spenders['Price'].count()\n",
    "#Add new 'Avg Purchase' column from group.by object's price average\n",
    "newdf['Avg Purchase'] = top_spenders['Price'].mean()\n",
    "#Reorganize the column order\n",
    "newdf = newdf[[\"# of Purchases\",\"Avg Purchase\",\"Price\"]]\n",
    "#Changed name of column from Price to Total Spent\n",
    "newdf = newdf.rename(columns={'Price':'Total Spent'})\n",
    "#Sort by Total Spent with the highest values at the top\n",
    "newdf = newdf.sort_values('Total Spent',ascending = False)\n",
    "#Pull only the top 5 rows from the altered dataset\n",
    "top_5 = newdf.iloc[0:5, :]\n",
    "#Reformate the Average Purchase and Total spent columns to read as dollars\n",
    "top_5[\"Avg Purchase\"] = top_5[\"Avg Purchase\"].map(\"${:.2f}\".format)\n",
    "top_5[\"Total Spent\"] = top_5[\"Total Spent\"].map(\"${:.2f}\".format)\n",
    "#Display the Table\n",
    "print(top_5)"
   ]
  },
  {
   "cell_type": "code",
   "execution_count": 62,
   "metadata": {},
   "outputs": [
    {
     "name": "stdout",
     "output_type": "stream",
     "text": [
      "                                                            # of Purchases  \\\n",
      "Item ID Item Name                                    Price                   \n",
      "178     Oathbreaker, Last Hope of the Breaking Storm 4.23               12   \n",
      "145     Fiery Glass Crusader                         4.58                9   \n",
      "108     Extraction, Quickblade Of Trembling Hands    3.53                9   \n",
      "82      Nirvana                                      4.90                9   \n",
      "19      Pursuit, Cudgel of Necromancy                1.02                8   \n",
      "\n",
      "                                                           Total Revenue  \n",
      "Item ID Item Name                                    Price                \n",
      "178     Oathbreaker, Last Hope of the Breaking Storm 4.23         $50.76  \n",
      "145     Fiery Glass Crusader                         4.58         $41.22  \n",
      "108     Extraction, Quickblade Of Trembling Hands    3.53         $31.77  \n",
      "82      Nirvana                                      4.90         $44.10  \n",
      "19      Pursuit, Cudgel of Necromancy                1.02          $8.16  \n"
     ]
    },
    {
     "name": "stderr",
     "output_type": "stream",
     "text": [
      "C:\\Users\\Samsung\\Anaconda3\\lib\\site-packages\\ipykernel_launcher.py:15: SettingWithCopyWarning: \n",
      "A value is trying to be set on a copy of a slice from a DataFrame.\n",
      "Try using .loc[row_indexer,col_indexer] = value instead\n",
      "\n",
      "See the caveats in the documentation: http://pandas.pydata.org/pandas-docs/stable/user_guide/indexing.html#returning-a-view-versus-a-copy\n",
      "  from ipykernel import kernelapp as app\n"
     ]
    }
   ],
   "source": [
    "#Top Items by Purchase Count\n",
    "#Pull a group.by object sorted by Item ID and Item Name\n",
    "top_items = purchase_data.groupby([\"Item ID\",\"Item Name\"])\n",
    "#Create a dataframe from the groupby object, drawing the value counts of the prices of the objects\n",
    "item_df = pd.DataFrame(top_items['Price'].value_counts())\n",
    "#Rename the second price column as # of Purchases\n",
    "item_df = item_df.rename(columns={\"Price\":\"# of Purchases\"})\n",
    "#Create the total revenue column from the groupby object focused on the sum of the price\n",
    "item_df[\"Total Revenue\"] = top_items[\"Price\"].sum()\n",
    "#Sort in descending order by the # of purchases of the item\n",
    "item_df = item_df.sort_values('# of Purchases',ascending = False)\n",
    "#Get only the top 5 items\n",
    "top_5_items = item_df.iloc[0:5, :]\n",
    "#formattop_5[\"Avg Purchase\"] = top_5[\"Avg Purchase\"].map(\"${:.2f}\".format)\n",
    "top_5_items[\"Total Revenue\"] = top_5_items[\"Total Revenue\"].map(\"${:.2f}\".format)\n",
    "#display\n",
    "print(top_5_items)"
   ]
  },
  {
   "cell_type": "code",
   "execution_count": 63,
   "metadata": {},
   "outputs": [
    {
     "name": "stdout",
     "output_type": "stream",
     "text": [
      "                                                            # of Purchases  \\\n",
      "Item ID Item Name                                    Price                   \n",
      "178     Oathbreaker, Last Hope of the Breaking Storm 4.23               12   \n",
      "82      Nirvana                                      4.90                9   \n",
      "145     Fiery Glass Crusader                         4.58                9   \n",
      "92      Final Critic                                 4.88                8   \n",
      "103     Singed Scalpel                               4.35                8   \n",
      "\n",
      "                                                           Total Revenue  \n",
      "Item ID Item Name                                    Price                \n",
      "178     Oathbreaker, Last Hope of the Breaking Storm 4.23         $50.76  \n",
      "82      Nirvana                                      4.90         $44.10  \n",
      "145     Fiery Glass Crusader                         4.58         $41.22  \n",
      "92      Final Critic                                 4.88         $39.04  \n",
      "103     Singed Scalpel                               4.35         $34.80  \n"
     ]
    },
    {
     "name": "stderr",
     "output_type": "stream",
     "text": [
      "C:\\Users\\Samsung\\Anaconda3\\lib\\site-packages\\ipykernel_launcher.py:7: SettingWithCopyWarning: \n",
      "A value is trying to be set on a copy of a slice from a DataFrame.\n",
      "Try using .loc[row_indexer,col_indexer] = value instead\n",
      "\n",
      "See the caveats in the documentation: http://pandas.pydata.org/pandas-docs/stable/user_guide/indexing.html#returning-a-view-versus-a-copy\n",
      "  import sys\n"
     ]
    }
   ],
   "source": [
    "#Top Items by Total Spent\n",
    "#resort the last dataframe by total revenue, descending order\n",
    "item_df2 = item_df.sort_values('Total Revenue',ascending = False)\n",
    "#pull only the top five items\n",
    "top_5_items2 = item_df2.iloc[0:5, :]\n",
    "#formatting\n",
    "top_5_items2[\"Total Revenue\"] = top_5_items2[\"Total Revenue\"].map(\"${:.2f}\".format)\n",
    "#display\n",
    "print(top_5_items2)"
   ]
  }
 ],
 "metadata": {
  "kernelspec": {
   "display_name": "Python 3",
   "language": "python",
   "name": "python3"
  },
  "language_info": {
   "codemirror_mode": {
    "name": "ipython",
    "version": 3
   },
   "file_extension": ".py",
   "mimetype": "text/x-python",
   "name": "python",
   "nbconvert_exporter": "python",
   "pygments_lexer": "ipython3",
   "version": "3.7.4"
  }
 },
 "nbformat": 4,
 "nbformat_minor": 2
}
