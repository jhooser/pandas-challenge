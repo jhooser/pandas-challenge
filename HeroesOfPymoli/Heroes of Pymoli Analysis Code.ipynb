{
 "cells": [
  {
   "cell_type": "markdown",
   "metadata": {},
   "source": [
    "This will be my first foray of analysis in the business world.  I'm trying to analyze game user data via Pandas."
   ]
  },
  {
   "cell_type": "code",
   "execution_count": 41,
   "metadata": {},
   "outputs": [],
   "source": [
    "# Step 1: Import my dependencies\n",
    "import pandas as pd\n",
    "# Step 2: Set up the file path and download the information as a dataframe\n",
    "file_to_load = \"Resources/purchase_data.csv\"\n",
    "#read my data and store it as a dataframe\n",
    "purchase_data = pd.read_csv(file_to_load)"
   ]
  },
  {
   "cell_type": "code",
   "execution_count": 42,
   "metadata": {},
   "outputs": [
    {
     "data": {
      "text/html": [
       "<div>\n",
       "<style scoped>\n",
       "    .dataframe tbody tr th:only-of-type {\n",
       "        vertical-align: middle;\n",
       "    }\n",
       "\n",
       "    .dataframe tbody tr th {\n",
       "        vertical-align: top;\n",
       "    }\n",
       "\n",
       "    .dataframe thead th {\n",
       "        text-align: right;\n",
       "    }\n",
       "</style>\n",
       "<table border=\"1\" class=\"dataframe\">\n",
       "  <thead>\n",
       "    <tr style=\"text-align: right;\">\n",
       "      <th></th>\n",
       "      <th>Total Users</th>\n",
       "    </tr>\n",
       "  </thead>\n",
       "  <tbody>\n",
       "    <tr>\n",
       "      <th>0</th>\n",
       "      <td>576</td>\n",
       "    </tr>\n",
       "  </tbody>\n",
       "</table>\n",
       "</div>"
      ],
      "text/plain": [
       "   Total Users\n",
       "0          576"
      ]
     },
     "execution_count": 42,
     "metadata": {},
     "output_type": "execute_result"
    }
   ],
   "source": [
    "# Step 3: Get a count of the number of users in the game.\n",
    "#The following code pulls only the unique SN values \n",
    "users = len(purchase_data[\"SN\"].unique())\n",
    "summary_users = pd.DataFrame({\"Total Users\":[users]})\n",
    "summary_users"
   ]
  },
  {
   "cell_type": "code",
   "execution_count": 43,
   "metadata": {},
   "outputs": [
    {
     "data": {
      "text/plain": [
       "Index(['Purchase ID', 'SN', 'Age', 'Gender', 'Item ID', 'Item Name', 'Price'], dtype='object')"
      ]
     },
     "execution_count": 43,
     "metadata": {},
     "output_type": "execute_result"
    }
   ],
   "source": [
    "#Step 4: Perform basic calculations to discover number of items, average price, number of purchases, and total revenue.\n",
    "purchase_data.columns"
   ]
  },
  {
   "cell_type": "code",
   "execution_count": 44,
   "metadata": {},
   "outputs": [
    {
     "data": {
      "text/plain": [
       "183"
      ]
     },
     "execution_count": 44,
     "metadata": {},
     "output_type": "execute_result"
    }
   ],
   "source": [
    "#calculate number of items\n",
    "# the following code pulls only the unique item ID's\n",
    "item_num = len(purchase_data[\"Item ID\"].unique())\n",
    "item_num"
   ]
  },
  {
   "cell_type": "code",
   "execution_count": 45,
   "metadata": {},
   "outputs": [
    {
     "name": "stdout",
     "output_type": "stream",
     "text": [
      "3.05\n",
      "13.0\n"
     ]
    }
   ],
   "source": [
    "#calculate average price\n",
    "price_avg = round(purchase_data[\"Price\"].mean(),2)\n",
    "print(price_avg)\n",
    "#I suspect that the given average might not be correct.  I want to know if it's asking for average price of all purchases,\n",
    "#or average price for all 183 items.  The given number is the average price for all purchases.\n",
    "price_avg2 = round((purchase_data[\"Price\"].sum())/item_num,2)\n",
    "print(price_avg2)"
   ]
  },
  {
   "cell_type": "code",
   "execution_count": 46,
   "metadata": {},
   "outputs": [],
   "source": [
    "#As we can see both numbers are quite different.  I'm not sure which answer we're looking for but I might include both until\n",
    "# I gain further light and knowledge"
   ]
  },
  {
   "cell_type": "code",
   "execution_count": 47,
   "metadata": {},
   "outputs": [
    {
     "data": {
      "text/plain": [
       "780"
      ]
     },
     "execution_count": 47,
     "metadata": {},
     "output_type": "execute_result"
    }
   ],
   "source": [
    "#calculate number of purchases made\n",
    "purchases = len(purchase_data[\"Purchase ID\"].unique())\n",
    "purchases"
   ]
  },
  {
   "cell_type": "code",
   "execution_count": 48,
   "metadata": {},
   "outputs": [
    {
     "data": {
      "text/plain": [
       "2379.77"
      ]
     },
     "execution_count": 48,
     "metadata": {},
     "output_type": "execute_result"
    }
   ],
   "source": [
    "#calculate total revenue\n",
    "revenue = purchase_data[\"Price\"].sum()\n",
    "revenue"
   ]
  },
  {
   "cell_type": "code",
   "execution_count": 49,
   "metadata": {},
   "outputs": [
    {
     "data": {
      "text/html": [
       "<div>\n",
       "<style scoped>\n",
       "    .dataframe tbody tr th:only-of-type {\n",
       "        vertical-align: middle;\n",
       "    }\n",
       "\n",
       "    .dataframe tbody tr th {\n",
       "        vertical-align: top;\n",
       "    }\n",
       "\n",
       "    .dataframe thead th {\n",
       "        text-align: right;\n",
       "    }\n",
       "</style>\n",
       "<table border=\"1\" class=\"dataframe\">\n",
       "  <thead>\n",
       "    <tr style=\"text-align: right;\">\n",
       "      <th></th>\n",
       "      <th>Number of Items</th>\n",
       "      <th>Total Average</th>\n",
       "      <th>Average per Item</th>\n",
       "      <th>Number of Purchases</th>\n",
       "      <th>Total Revenue</th>\n",
       "    </tr>\n",
       "  </thead>\n",
       "  <tbody>\n",
       "    <tr>\n",
       "      <th>0</th>\n",
       "      <td>183</td>\n",
       "      <td>$3.05</td>\n",
       "      <td>$13.00</td>\n",
       "      <td>780</td>\n",
       "      <td>$2379.77</td>\n",
       "    </tr>\n",
       "  </tbody>\n",
       "</table>\n",
       "</div>"
      ],
      "text/plain": [
       "   Number of Items Total Average Average per Item  Number of Purchases  \\\n",
       "0              183         $3.05           $13.00                  780   \n",
       "\n",
       "  Total Revenue  \n",
       "0      $2379.77  "
      ]
     },
     "execution_count": 49,
     "metadata": {},
     "output_type": "execute_result"
    }
   ],
   "source": [
    "# Now this needs to be formated into a table that I can show to everyone\n",
    "summary_table_purchases = pd.DataFrame({\"Number of Items\": [item_num],\n",
    "                                        \"Total Average\": [price_avg],\n",
    "                                        \"Average per Item\": [price_avg2],\n",
    "                                        \"Number of Purchases\": [purchases],\n",
    "                                        \"Total Revenue\": [revenue]})\n",
    "#applying special formatting so that everything is more readable\n",
    "summary_table_purchases[\"Total Average\"] = summary_table_purchases[\"Total Average\"].map(\"${:.2f}\".format)\n",
    "summary_table_purchases[\"Average per Item\"] = summary_table_purchases[\"Average per Item\"].map(\"${:.2f}\".format)\n",
    "summary_table_purchases[\"Total Revenue\"] = summary_table_purchases[\"Total Revenue\"].map(\"${:.2f}\".format)\n",
    "\n",
    "#display the table\n",
    "summary_table_purchases"
   ]
  },
  {
   "cell_type": "code",
   "execution_count": null,
   "metadata": {},
   "outputs": [],
   "source": []
  }
 ],
 "metadata": {
  "kernelspec": {
   "display_name": "Python 3",
   "language": "python",
   "name": "python3"
  },
  "language_info": {
   "codemirror_mode": {
    "name": "ipython",
    "version": 3
   },
   "file_extension": ".py",
   "mimetype": "text/x-python",
   "name": "python",
   "nbconvert_exporter": "python",
   "pygments_lexer": "ipython3",
   "version": "3.6.9"
  }
 },
 "nbformat": 4,
 "nbformat_minor": 2
}
