{
 "cells": [
  {
   "cell_type": "markdown",
   "metadata": {},
   "source": [
    "This will be my first foray of analysis in the business world.  I'm trying to analyze game user data via Pandas."
   ]
  },
  {
   "cell_type": "code",
   "execution_count": 3,
   "metadata": {},
   "outputs": [
    {
     "data": {
      "text/html": [
       "<div>\n",
       "<style scoped>\n",
       "    .dataframe tbody tr th:only-of-type {\n",
       "        vertical-align: middle;\n",
       "    }\n",
       "\n",
       "    .dataframe tbody tr th {\n",
       "        vertical-align: top;\n",
       "    }\n",
       "\n",
       "    .dataframe thead th {\n",
       "        text-align: right;\n",
       "    }\n",
       "</style>\n",
       "<table border=\"1\" class=\"dataframe\">\n",
       "  <thead>\n",
       "    <tr style=\"text-align: right;\">\n",
       "      <th></th>\n",
       "      <th>Purchase ID</th>\n",
       "      <th>SN</th>\n",
       "      <th>Age</th>\n",
       "      <th>Gender</th>\n",
       "      <th>Item ID</th>\n",
       "      <th>Item Name</th>\n",
       "      <th>Price</th>\n",
       "    </tr>\n",
       "  </thead>\n",
       "  <tbody>\n",
       "    <tr>\n",
       "      <td>0</td>\n",
       "      <td>0</td>\n",
       "      <td>Lisim78</td>\n",
       "      <td>20</td>\n",
       "      <td>Male</td>\n",
       "      <td>108</td>\n",
       "      <td>Extraction, Quickblade Of Trembling Hands</td>\n",
       "      <td>3.53</td>\n",
       "    </tr>\n",
       "    <tr>\n",
       "      <td>1</td>\n",
       "      <td>1</td>\n",
       "      <td>Lisovynya38</td>\n",
       "      <td>40</td>\n",
       "      <td>Male</td>\n",
       "      <td>143</td>\n",
       "      <td>Frenzied Scimitar</td>\n",
       "      <td>1.56</td>\n",
       "    </tr>\n",
       "    <tr>\n",
       "      <td>2</td>\n",
       "      <td>2</td>\n",
       "      <td>Ithergue48</td>\n",
       "      <td>24</td>\n",
       "      <td>Male</td>\n",
       "      <td>92</td>\n",
       "      <td>Final Critic</td>\n",
       "      <td>4.88</td>\n",
       "    </tr>\n",
       "    <tr>\n",
       "      <td>3</td>\n",
       "      <td>3</td>\n",
       "      <td>Chamassasya86</td>\n",
       "      <td>24</td>\n",
       "      <td>Male</td>\n",
       "      <td>100</td>\n",
       "      <td>Blindscythe</td>\n",
       "      <td>3.27</td>\n",
       "    </tr>\n",
       "    <tr>\n",
       "      <td>4</td>\n",
       "      <td>4</td>\n",
       "      <td>Iskosia90</td>\n",
       "      <td>23</td>\n",
       "      <td>Male</td>\n",
       "      <td>131</td>\n",
       "      <td>Fury</td>\n",
       "      <td>1.44</td>\n",
       "    </tr>\n",
       "  </tbody>\n",
       "</table>\n",
       "</div>"
      ],
      "text/plain": [
       "   Purchase ID             SN  Age Gender  Item ID  \\\n",
       "0            0        Lisim78   20   Male      108   \n",
       "1            1    Lisovynya38   40   Male      143   \n",
       "2            2     Ithergue48   24   Male       92   \n",
       "3            3  Chamassasya86   24   Male      100   \n",
       "4            4      Iskosia90   23   Male      131   \n",
       "\n",
       "                                   Item Name  Price  \n",
       "0  Extraction, Quickblade Of Trembling Hands   3.53  \n",
       "1                          Frenzied Scimitar   1.56  \n",
       "2                               Final Critic   4.88  \n",
       "3                                Blindscythe   3.27  \n",
       "4                                       Fury   1.44  "
      ]
     },
     "execution_count": 3,
     "metadata": {},
     "output_type": "execute_result"
    }
   ],
   "source": [
    "#Import my dependencies\n",
    "import pandas as pd\n",
    "#Set up the file path and download the information as a dataframe\n",
    "file_to_load = \"Resources/purchase_data.csv\"\n",
    "#read my data and store it as a dataframe\n",
    "purchase_data = pd.read_csv(file_to_load)\n",
    "purchase_data.head()"
   ]
  },
  {
   "cell_type": "markdown",
   "metadata": {},
   "source": [
    "### Calculate total number of users"
   ]
  },
  {
   "cell_type": "code",
   "execution_count": 5,
   "metadata": {},
   "outputs": [
    {
     "data": {
      "text/html": [
       "<div>\n",
       "<style scoped>\n",
       "    .dataframe tbody tr th:only-of-type {\n",
       "        vertical-align: middle;\n",
       "    }\n",
       "\n",
       "    .dataframe tbody tr th {\n",
       "        vertical-align: top;\n",
       "    }\n",
       "\n",
       "    .dataframe thead th {\n",
       "        text-align: right;\n",
       "    }\n",
       "</style>\n",
       "<table border=\"1\" class=\"dataframe\">\n",
       "  <thead>\n",
       "    <tr style=\"text-align: right;\">\n",
       "      <th></th>\n",
       "      <th>Total Users</th>\n",
       "    </tr>\n",
       "  </thead>\n",
       "  <tbody>\n",
       "    <tr>\n",
       "      <td>0</td>\n",
       "      <td>576</td>\n",
       "    </tr>\n",
       "  </tbody>\n",
       "</table>\n",
       "</div>"
      ],
      "text/plain": [
       "   Total Users\n",
       "0          576"
      ]
     },
     "execution_count": 5,
     "metadata": {},
     "output_type": "execute_result"
    }
   ],
   "source": [
    "#The following code pulls only the unique SN values \n",
    "unique_users = purchase_data.drop_duplicates(\"SN\")\n",
    "users = len(unique_users[\"SN\"])\n",
    "summary_users = pd.DataFrame({\"Total Users\":[users]})\n",
    "summary_users"
   ]
  },
  {
   "cell_type": "markdown",
   "metadata": {},
   "source": [
    "### Perform basic calculations"
   ]
  },
  {
   "cell_type": "code",
   "execution_count": 6,
   "metadata": {},
   "outputs": [
    {
     "name": "stdout",
     "output_type": "stream",
     "text": [
      "   Number of Items Total Average  Number of Purchases Total Revenue\n",
      "0              183         $3.05                  780      $2379.77\n"
     ]
    }
   ],
   "source": [
    "#create a list of unique item names\n",
    "unique_items = purchase_data.drop_duplicates(\"Item ID\")\n",
    "# store the length of the list as a variable\n",
    "item_num = len(unique_items[\"Item ID\"])\n",
    "#display the variable\n",
    "#print(f\"Number of items:{item_num}\")\n",
    "\n",
    "#calculate average price and store as a variable\n",
    "price_avg = round(purchase_data[\"Price\"].mean(),2)\n",
    "#display the variable\n",
    "#print(f\"Average price:{price_avg}\")\n",
    "\n",
    "#Create a unique list of purchases made\n",
    "unique_purchases = purchase_data.drop_duplicates(\"Purchase ID\")\n",
    "#Store the length of the list as a variable\n",
    "purchases = len(unique_purchases[\"Purchase ID\"])\n",
    "#display the variable\n",
    "#print(f\"Number of purchases:{purchases}\")\n",
    "\n",
    "#calculate total revenue and store it as a variable\n",
    "revenue = purchase_data[\"Price\"].sum()\n",
    "#display the variable\n",
    "#print(f\"Total Revenue:{revenue}\")\n",
    "\n",
    "# Format the above results into a table\n",
    "summary_table_purchases = pd.DataFrame({\"Number of Items\": [item_num],\n",
    "                                        \"Total Average\": [price_avg],\n",
    "                                        \"Number of Purchases\": [purchases],\n",
    "                                        \"Total Revenue\": [revenue]})\n",
    "#applying special formatting so that everything is more readable\n",
    "summary_table_purchases[\"Total Average\"] = summary_table_purchases[\"Total Average\"].map(\"${:.2f}\".format)\n",
    "summary_table_purchases[\"Total Revenue\"] = summary_table_purchases[\"Total Revenue\"].map(\"${:.2f}\".format)\n",
    "\n",
    "#display the table\n",
    "print(summary_table_purchases)"
   ]
  },
  {
   "cell_type": "markdown",
   "metadata": {},
   "source": [
    "### Gender Demographics"
   ]
  },
  {
   "cell_type": "code",
   "execution_count": 7,
   "metadata": {},
   "outputs": [
    {
     "name": "stdout",
     "output_type": "stream",
     "text": [
      "Number of Males:484\n",
      "Percentage of Males:84.0\n"
     ]
    }
   ],
   "source": [
    "#create a list of males from the unique users dataset and save the length of the list as a variable\n",
    "males = len(unique_users.loc[unique_users[\"Gender\"] == \"Male\",:]) \n",
    "#calculate the percentage of male users compared to the total player base\n",
    "male_percent = round(males/users,2)*100\n",
    "#display the calculations\n",
    "print(f\"Number of Males:{males}\")\n",
    "print(f\"Percentage of Males:{male_percent}\")"
   ]
  },
  {
   "cell_type": "code",
   "execution_count": 8,
   "metadata": {},
   "outputs": [
    {
     "name": "stdout",
     "output_type": "stream",
     "text": [
      "Number of Females:81\n",
      "Percentage of Females:14.000000000000002\n"
     ]
    }
   ],
   "source": [
    "#create a list of females from the unique users dataset and save the length of the list as a variable\n",
    "females = len(unique_users.loc[unique_users[\"Gender\"]== \"Female\",:])\n",
    "#calculate the percentage of female users compared to the total player base\n",
    "female_percent = round(females/users,2)*100\n",
    "#display the calculations\n",
    "print(f\"Number of Females:{females}\")\n",
    "print(f\"Percentage of Females:{female_percent}\")"
   ]
  },
  {
   "cell_type": "code",
   "execution_count": 9,
   "metadata": {},
   "outputs": [
    {
     "name": "stdout",
     "output_type": "stream",
     "text": [
      "Number of Others:11\n",
      "Percentage of Others:2.0\n"
     ]
    }
   ],
   "source": [
    "#Create a list of other genders from the unique users dataset and save the length of the list as a variable\n",
    "others = len(unique_users.loc[unique_users[\"Gender\"] == \"Other / Non-Disclosed\",:])\n",
    "#calculate the percentage of other users compared to the total player base\n",
    "others_percent = round(others/users,2)*100\n",
    "print(f\"Number of Others:{others}\")\n",
    "print(f\"Percentage of Others:{others_percent}\")"
   ]
  },
  {
   "cell_type": "code",
   "execution_count": 10,
   "metadata": {},
   "outputs": [
    {
     "name": "stdout",
     "output_type": "stream",
     "text": [
      "                       Users Percentages\n",
      "Male                     484         84%\n",
      "Female                    81         14%\n",
      "Other / Non-Disclosed     11          2%\n"
     ]
    }
   ],
   "source": [
    "#Create a summary table based on the above calculations\n",
    "summary_table_gender = pd.DataFrame({\"Users\": [males, females, others],\n",
    "                                        \"Percentages\": [male_percent,female_percent,others_percent]},\n",
    "                                   index=[\"Male\",\"Female\",\"Other / Non-Disclosed\"])\n",
    "#Format the table\n",
    "summary_table_gender[\"Percentages\"] = summary_table_gender[\"Percentages\"].map(\"{:.0f}%\".format)\n",
    "#Display the table\n",
    "print(summary_table_gender)"
   ]
  },
  {
   "cell_type": "markdown",
   "metadata": {},
   "source": [
    "### Purchase Analysis By Gender"
   ]
  },
  {
   "cell_type": "code",
   "execution_count": 20,
   "metadata": {
    "scrolled": true
   },
   "outputs": [
    {
     "data": {
      "text/html": [
       "<div>\n",
       "<style scoped>\n",
       "    .dataframe tbody tr th:only-of-type {\n",
       "        vertical-align: middle;\n",
       "    }\n",
       "\n",
       "    .dataframe tbody tr th {\n",
       "        vertical-align: top;\n",
       "    }\n",
       "\n",
       "    .dataframe thead th {\n",
       "        text-align: right;\n",
       "    }\n",
       "</style>\n",
       "<table border=\"1\" class=\"dataframe\">\n",
       "  <thead>\n",
       "    <tr style=\"text-align: right;\">\n",
       "      <th></th>\n",
       "      <th>Purchase ID</th>\n",
       "      <th>Avg Purchase Price</th>\n",
       "      <th>Total Revenue</th>\n",
       "    </tr>\n",
       "    <tr>\n",
       "      <th>Gender</th>\n",
       "      <th></th>\n",
       "      <th></th>\n",
       "      <th></th>\n",
       "    </tr>\n",
       "  </thead>\n",
       "  <tbody>\n",
       "    <tr>\n",
       "      <td>Female</td>\n",
       "      <td>113</td>\n",
       "      <td>3.203009</td>\n",
       "      <td>361.94</td>\n",
       "    </tr>\n",
       "    <tr>\n",
       "      <td>Male</td>\n",
       "      <td>652</td>\n",
       "      <td>3.017853</td>\n",
       "      <td>1967.64</td>\n",
       "    </tr>\n",
       "    <tr>\n",
       "      <td>Other / Non-Disclosed</td>\n",
       "      <td>15</td>\n",
       "      <td>3.346000</td>\n",
       "      <td>50.19</td>\n",
       "    </tr>\n",
       "  </tbody>\n",
       "</table>\n",
       "</div>"
      ],
      "text/plain": [
       "                       Purchase ID  Avg Purchase Price  Total Revenue\n",
       "Gender                                                               \n",
       "Female                         113            3.203009         361.94\n",
       "Male                           652            3.017853        1967.64\n",
       "Other / Non-Disclosed           15            3.346000          50.19"
      ]
     },
     "execution_count": 20,
     "metadata": {},
     "output_type": "execute_result"
    }
   ],
   "source": [
    "#Create a subset of data for our purchase analysis\n",
    "gender_purchases = purchase_data[[\"Purchase ID\",\"SN\",\"Gender\",\"Price\"]]\n",
    "#create the groupby object indexed by gender\n",
    "gender_gp = gender_purchases.groupby(\"Gender\")\n",
    "#create a dataframe from the group by object, with the first row being the number of purchases per gender\n",
    "gender_df = pd.DataFrame(gender_gp[\"Purchase ID\"].count())\n",
    "#create a column by the average purchase price per gender\n",
    "gender_df[\"Avg Purchase Price\"] = gender_gp[\"Price\"].mean()\n",
    "#create a column of total purchase value per gender\n",
    "gender_df[\"Total Revenue\"] = gender_gp[\"Price\"].sum()\n",
    "gender_df\n",
    "\n"
   ]
  },
  {
   "cell_type": "code",
   "execution_count": 22,
   "metadata": {},
   "outputs": [
    {
     "data": {
      "text/html": [
       "<div>\n",
       "<style scoped>\n",
       "    .dataframe tbody tr th:only-of-type {\n",
       "        vertical-align: middle;\n",
       "    }\n",
       "\n",
       "    .dataframe tbody tr th {\n",
       "        vertical-align: top;\n",
       "    }\n",
       "\n",
       "    .dataframe thead th {\n",
       "        text-align: right;\n",
       "    }\n",
       "</style>\n",
       "<table border=\"1\" class=\"dataframe\">\n",
       "  <thead>\n",
       "    <tr style=\"text-align: right;\">\n",
       "      <th></th>\n",
       "      <th></th>\n",
       "      <th>Price</th>\n",
       "    </tr>\n",
       "    <tr>\n",
       "      <th>Gender</th>\n",
       "      <th>SN</th>\n",
       "      <th></th>\n",
       "    </tr>\n",
       "  </thead>\n",
       "  <tbody>\n",
       "    <tr>\n",
       "      <td rowspan=\"5\" valign=\"top\">Female</td>\n",
       "      <td>Adastirin33</td>\n",
       "      <td>4.480</td>\n",
       "    </tr>\n",
       "    <tr>\n",
       "      <td>Aerithllora36</td>\n",
       "      <td>4.320</td>\n",
       "    </tr>\n",
       "    <tr>\n",
       "      <td>Aethedru70</td>\n",
       "      <td>3.540</td>\n",
       "    </tr>\n",
       "    <tr>\n",
       "      <td>Aidain51</td>\n",
       "      <td>3.450</td>\n",
       "    </tr>\n",
       "    <tr>\n",
       "      <td>Aiduesu86</td>\n",
       "      <td>4.480</td>\n",
       "    </tr>\n",
       "    <tr>\n",
       "      <td>...</td>\n",
       "      <td>...</td>\n",
       "      <td>...</td>\n",
       "    </tr>\n",
       "    <tr>\n",
       "      <td rowspan=\"5\" valign=\"top\">Other / Non-Disclosed</td>\n",
       "      <td>Lirtim36</td>\n",
       "      <td>1.330</td>\n",
       "    </tr>\n",
       "    <tr>\n",
       "      <td>Maluncil97</td>\n",
       "      <td>2.640</td>\n",
       "    </tr>\n",
       "    <tr>\n",
       "      <td>Rairith81</td>\n",
       "      <td>2.220</td>\n",
       "    </tr>\n",
       "    <tr>\n",
       "      <td>Siarithria38</td>\n",
       "      <td>3.455</td>\n",
       "    </tr>\n",
       "    <tr>\n",
       "      <td>Sundim98</td>\n",
       "      <td>4.750</td>\n",
       "    </tr>\n",
       "  </tbody>\n",
       "</table>\n",
       "<p>576 rows × 1 columns</p>\n",
       "</div>"
      ],
      "text/plain": [
       "                                     Price\n",
       "Gender                SN                  \n",
       "Female                Adastirin33    4.480\n",
       "                      Aerithllora36  4.320\n",
       "                      Aethedru70     3.540\n",
       "                      Aidain51       3.450\n",
       "                      Aiduesu86      4.480\n",
       "...                                    ...\n",
       "Other / Non-Disclosed Lirtim36       1.330\n",
       "                      Maluncil97     2.640\n",
       "                      Rairith81      2.220\n",
       "                      Siarithria38   3.455\n",
       "                      Sundim98       4.750\n",
       "\n",
       "[576 rows x 1 columns]"
      ]
     },
     "execution_count": 22,
     "metadata": {},
     "output_type": "execute_result"
    }
   ],
   "source": [
    "#Average purchase per person by gender\n",
    "gender_individual = gender_purchases.groupby([\"Gender\",\"SN\"])\n",
    "gender_ind_df = pd.DataFrame(gender_individual[\"Price\"].mean())\n",
    "gender_ind_df"
   ]
  },
  {
   "cell_type": "markdown",
   "metadata": {},
   "source": [
    "### Age Demographics"
   ]
  },
  {
   "cell_type": "code",
   "execution_count": 30,
   "metadata": {},
   "outputs": [
    {
     "name": "stderr",
     "output_type": "stream",
     "text": [
      "C:\\Users\\Samsung\\Anaconda3\\lib\\site-packages\\ipykernel_launcher.py:6: SettingWithCopyWarning: \n",
      "A value is trying to be set on a copy of a slice from a DataFrame.\n",
      "Try using .loc[row_indexer,col_indexer] = value instead\n",
      "\n",
      "See the caveats in the documentation: http://pandas.pydata.org/pandas-docs/stable/user_guide/indexing.html#returning-a-view-versus-a-copy\n",
      "  \n"
     ]
    },
    {
     "data": {
      "text/html": [
       "<div>\n",
       "<style scoped>\n",
       "    .dataframe tbody tr th:only-of-type {\n",
       "        vertical-align: middle;\n",
       "    }\n",
       "\n",
       "    .dataframe tbody tr th {\n",
       "        vertical-align: top;\n",
       "    }\n",
       "\n",
       "    .dataframe thead th {\n",
       "        text-align: right;\n",
       "    }\n",
       "</style>\n",
       "<table border=\"1\" class=\"dataframe\">\n",
       "  <thead>\n",
       "    <tr style=\"text-align: right;\">\n",
       "      <th></th>\n",
       "      <th>Purchase ID</th>\n",
       "      <th>Avg Price</th>\n",
       "      <th>Total Revenue</th>\n",
       "    </tr>\n",
       "    <tr>\n",
       "      <th>Age Demographics</th>\n",
       "      <th></th>\n",
       "      <th></th>\n",
       "      <th></th>\n",
       "    </tr>\n",
       "  </thead>\n",
       "  <tbody>\n",
       "    <tr>\n",
       "      <td>7-10</td>\n",
       "      <td>24</td>\n",
       "      <td>3.424167</td>\n",
       "      <td>82.18</td>\n",
       "    </tr>\n",
       "    <tr>\n",
       "      <td>11-14</td>\n",
       "      <td>15</td>\n",
       "      <td>2.872667</td>\n",
       "      <td>43.09</td>\n",
       "    </tr>\n",
       "    <tr>\n",
       "      <td>15-18</td>\n",
       "      <td>90</td>\n",
       "      <td>3.076000</td>\n",
       "      <td>276.84</td>\n",
       "    </tr>\n",
       "    <tr>\n",
       "      <td>19-22</td>\n",
       "      <td>178</td>\n",
       "      <td>3.054719</td>\n",
       "      <td>543.74</td>\n",
       "    </tr>\n",
       "    <tr>\n",
       "      <td>23-26</td>\n",
       "      <td>151</td>\n",
       "      <td>3.090199</td>\n",
       "      <td>466.62</td>\n",
       "    </tr>\n",
       "    <tr>\n",
       "      <td>27-30</td>\n",
       "      <td>48</td>\n",
       "      <td>2.875625</td>\n",
       "      <td>138.03</td>\n",
       "    </tr>\n",
       "    <tr>\n",
       "      <td>31-34</td>\n",
       "      <td>27</td>\n",
       "      <td>2.699630</td>\n",
       "      <td>72.89</td>\n",
       "    </tr>\n",
       "    <tr>\n",
       "      <td>35-38</td>\n",
       "      <td>25</td>\n",
       "      <td>3.419600</td>\n",
       "      <td>85.49</td>\n",
       "    </tr>\n",
       "    <tr>\n",
       "      <td>39-42</td>\n",
       "      <td>14</td>\n",
       "      <td>3.479286</td>\n",
       "      <td>48.71</td>\n",
       "    </tr>\n",
       "    <tr>\n",
       "      <td>43-46</td>\n",
       "      <td>4</td>\n",
       "      <td>2.765000</td>\n",
       "      <td>11.06</td>\n",
       "    </tr>\n",
       "  </tbody>\n",
       "</table>\n",
       "</div>"
      ],
      "text/plain": [
       "                  Purchase ID  Avg Price  Total Revenue\n",
       "Age Demographics                                       \n",
       "7-10                       24   3.424167          82.18\n",
       "11-14                      15   2.872667          43.09\n",
       "15-18                      90   3.076000         276.84\n",
       "19-22                     178   3.054719         543.74\n",
       "23-26                     151   3.090199         466.62\n",
       "27-30                      48   2.875625         138.03\n",
       "31-34                      27   2.699630          72.89\n",
       "35-38                      25   3.419600          85.49\n",
       "39-42                      14   3.479286          48.71\n",
       "43-46                       4   2.765000          11.06"
      ]
     },
     "execution_count": 30,
     "metadata": {},
     "output_type": "execute_result"
    }
   ],
   "source": [
    "#Set up bins\n",
    "bins = [6,10,14,18,22,26,30,34,38,42,46]\n",
    "#Set up group names\n",
    "group_names = [\"7-10\",\"11-14\",\"15-18\",\"19-22\",\"23-26\",\"27-30\",\"31-34\",\"35-38\",\"39-42\",\"43-46\"]\n",
    "#Add Age demographics column to the data set\n",
    "unique_users[\"Age Demographics\"]= pd.cut(unique_users[\"Age\"],bins,labels = group_names)\n",
    "#Create age demographic groupby object\n",
    "age_demo = unique_users.groupby(\"Age Demographics\")\n",
    "#Put the grouby object into a data frame with purchase count\n",
    "age_df = pd.DataFrame(age_demo[\"Purchase ID\"].count())\n",
    "#average purchase price\n",
    "age_df[\"Avg Price\"] = age_demo[\"Price\"].mean()\n",
    "# Total Revenue\n",
    "age_df[\"Total Revenue\"] = age_demo[\"Price\"].sum()\n",
    "#display the chart\n",
    "age_df\n"
   ]
  },
  {
   "cell_type": "code",
   "execution_count": 31,
   "metadata": {},
   "outputs": [
    {
     "data": {
      "text/html": [
       "<div>\n",
       "<style scoped>\n",
       "    .dataframe tbody tr th:only-of-type {\n",
       "        vertical-align: middle;\n",
       "    }\n",
       "\n",
       "    .dataframe tbody tr th {\n",
       "        vertical-align: top;\n",
       "    }\n",
       "\n",
       "    .dataframe thead th {\n",
       "        text-align: right;\n",
       "    }\n",
       "</style>\n",
       "<table border=\"1\" class=\"dataframe\">\n",
       "  <thead>\n",
       "    <tr style=\"text-align: right;\">\n",
       "      <th></th>\n",
       "      <th></th>\n",
       "      <th>Price</th>\n",
       "    </tr>\n",
       "    <tr>\n",
       "      <th>Age Demographics</th>\n",
       "      <th>SN</th>\n",
       "      <th></th>\n",
       "    </tr>\n",
       "  </thead>\n",
       "  <tbody>\n",
       "    <tr>\n",
       "      <td rowspan=\"5\" valign=\"top\">7-10</td>\n",
       "      <td>Adairialis76</td>\n",
       "      <td>NaN</td>\n",
       "    </tr>\n",
       "    <tr>\n",
       "      <td>Adastirin33</td>\n",
       "      <td>NaN</td>\n",
       "    </tr>\n",
       "    <tr>\n",
       "      <td>Aeda94</td>\n",
       "      <td>NaN</td>\n",
       "    </tr>\n",
       "    <tr>\n",
       "      <td>Aela59</td>\n",
       "      <td>NaN</td>\n",
       "    </tr>\n",
       "    <tr>\n",
       "      <td>Aelaria33</td>\n",
       "      <td>NaN</td>\n",
       "    </tr>\n",
       "    <tr>\n",
       "      <td>...</td>\n",
       "      <td>...</td>\n",
       "      <td>...</td>\n",
       "    </tr>\n",
       "    <tr>\n",
       "      <td rowspan=\"5\" valign=\"top\">43-46</td>\n",
       "      <td>Yathecal82</td>\n",
       "      <td>NaN</td>\n",
       "    </tr>\n",
       "    <tr>\n",
       "      <td>Yathedeu43</td>\n",
       "      <td>NaN</td>\n",
       "    </tr>\n",
       "    <tr>\n",
       "      <td>Yoishirrala98</td>\n",
       "      <td>NaN</td>\n",
       "    </tr>\n",
       "    <tr>\n",
       "      <td>Zhisrisu83</td>\n",
       "      <td>NaN</td>\n",
       "    </tr>\n",
       "    <tr>\n",
       "      <td>Zontibe81</td>\n",
       "      <td>NaN</td>\n",
       "    </tr>\n",
       "  </tbody>\n",
       "</table>\n",
       "<p>5760 rows × 1 columns</p>\n",
       "</div>"
      ],
      "text/plain": [
       "                                Price\n",
       "Age Demographics SN                  \n",
       "7-10             Adairialis76     NaN\n",
       "                 Adastirin33      NaN\n",
       "                 Aeda94           NaN\n",
       "                 Aela59           NaN\n",
       "                 Aelaria33        NaN\n",
       "...                               ...\n",
       "43-46            Yathecal82       NaN\n",
       "                 Yathedeu43       NaN\n",
       "                 Yoishirrala98    NaN\n",
       "                 Zhisrisu83       NaN\n",
       "                 Zontibe81        NaN\n",
       "\n",
       "[5760 rows x 1 columns]"
      ]
     },
     "execution_count": 31,
     "metadata": {},
     "output_type": "execute_result"
    }
   ],
   "source": [
    "#Average purchase total per Person by Age Group\n",
    "age_individual = unique_users.groupby([\"Age Demographics\",\"SN\"])\n",
    "age_indv_df = pd.DataFrame(age_individual[\"Price\"].mean())\n",
    "\n",
    "age_indv_df"
   ]
  },
  {
   "cell_type": "code",
   "execution_count": null,
   "metadata": {},
   "outputs": [],
   "source": [
    "#Top Spenders\n",
    "\n",
    "#Create a group.by object by screen name\n",
    "top_spenders = purchase_data.groupby(purchase_data[\"SN\"])\n",
    "#Create a dataframe using total price\n",
    "newdf = pd.DataFrame(top_spenders['Price'].sum())\n",
    "#Add new '# of Purchases' column drawing from the group.by object's price count\n",
    "newdf['# of Purchases'] = top_spenders['Price'].count()\n",
    "#Add new 'Avg Purchase' column from group.by object's price average\n",
    "newdf['Avg Purchase'] = top_spenders['Price'].mean()\n",
    "#Reorganize the column order\n",
    "newdf = newdf[[\"# of Purchases\",\"Avg Purchase\",\"Price\"]]\n",
    "#Changed name of column from Price to Total Spent\n",
    "newdf = newdf.rename(columns={'Price':'Total Spent'})\n",
    "#Sort by Total Spent with the highest values at the top\n",
    "newdf = newdf.sort_values('Total Spent',ascending = False)\n",
    "#Pull only the top 5 rows from the altered dataset\n",
    "top_5 = newdf.iloc[0:5, :]\n",
    "#Reformate the Average Purchase and Total spent columns to read as dollars\n",
    "top_5[\"Avg Purchase\"] = top_5[\"Avg Purchase\"].map(\"${:.2f}\".format)\n",
    "top_5[\"Total Spent\"] = top_5[\"Total Spent\"].map(\"${:.2f}\".format)\n",
    "#Display the Table\n",
    "print(top_5)"
   ]
  },
  {
   "cell_type": "code",
   "execution_count": null,
   "metadata": {},
   "outputs": [],
   "source": [
    "#Top Items by Purchase Count\n",
    "#Pull a group.by object sorted by Item ID and Item Name\n",
    "top_items = purchase_data.groupby([\"Item ID\",\"Item Name\"])\n",
    "#Create a dataframe from the groupby object, drawing the value counts of the prices of the objects\n",
    "item_df = pd.DataFrame(top_items['Price'].value_counts())\n",
    "#Rename the second price column as # of Purchases\n",
    "item_df = item_df.rename(columns={\"Price\":\"# of Purchases\"})\n",
    "#Create the total revenue column from the groupby object focused on the sum of the price\n",
    "item_df[\"Total Revenue\"] = top_items[\"Price\"].sum()\n",
    "#Sort in descending order by the # of purchases of the item\n",
    "item_df = item_df.sort_values('# of Purchases',ascending = False)\n",
    "#Get only the top 5 items\n",
    "top_5_items = item_df.iloc[0:5, :]\n",
    "#formattop_5[\"Avg Purchase\"] = top_5[\"Avg Purchase\"].map(\"${:.2f}\".format)\n",
    "top_5_items[\"Total Revenue\"] = top_5_items[\"Total Revenue\"].map(\"${:.2f}\".format)\n",
    "#display\n",
    "print(top_5_items)"
   ]
  },
  {
   "cell_type": "code",
   "execution_count": null,
   "metadata": {},
   "outputs": [],
   "source": [
    "#Top Items by Total Spent\n",
    "#resort the last dataframe by total revenue, descending order\n",
    "item_df2 = item_df.sort_values('Total Revenue',ascending = False)\n",
    "#pull only the top five items\n",
    "top_5_items2 = item_df2.iloc[0:5, :]\n",
    "#formatting\n",
    "top_5_items2[\"Total Revenue\"] = top_5_items2[\"Total Revenue\"].map(\"${:.2f}\".format)\n",
    "#display\n",
    "print(top_5_items2)"
   ]
  }
 ],
 "metadata": {
  "kernelspec": {
   "display_name": "Python 3",
   "language": "python",
   "name": "python3"
  },
  "language_info": {
   "codemirror_mode": {
    "name": "ipython",
    "version": 3
   },
   "file_extension": ".py",
   "mimetype": "text/x-python",
   "name": "python",
   "nbconvert_exporter": "python",
   "pygments_lexer": "ipython3",
   "version": "3.7.4"
  }
 },
 "nbformat": 4,
 "nbformat_minor": 2
}
