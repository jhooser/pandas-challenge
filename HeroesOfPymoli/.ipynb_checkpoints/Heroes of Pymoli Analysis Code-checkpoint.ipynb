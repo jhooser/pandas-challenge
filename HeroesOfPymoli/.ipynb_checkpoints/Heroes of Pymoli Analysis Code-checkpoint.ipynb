{
 "cells": [
  {
   "cell_type": "markdown",
   "metadata": {},
   "source": [
    "This will be my first foray of analysis in the business world.  I'm trying to analyze game user data via Pandas."
   ]
  },
  {
   "cell_type": "code",
   "execution_count": 2,
   "metadata": {},
   "outputs": [
    {
     "data": {
      "text/html": [
       "<div>\n",
       "<style scoped>\n",
       "    .dataframe tbody tr th:only-of-type {\n",
       "        vertical-align: middle;\n",
       "    }\n",
       "\n",
       "    .dataframe tbody tr th {\n",
       "        vertical-align: top;\n",
       "    }\n",
       "\n",
       "    .dataframe thead th {\n",
       "        text-align: right;\n",
       "    }\n",
       "</style>\n",
       "<table border=\"1\" class=\"dataframe\">\n",
       "  <thead>\n",
       "    <tr style=\"text-align: right;\">\n",
       "      <th></th>\n",
       "      <th>Purchase ID</th>\n",
       "      <th>SN</th>\n",
       "      <th>Age</th>\n",
       "      <th>Gender</th>\n",
       "      <th>Item ID</th>\n",
       "      <th>Item Name</th>\n",
       "      <th>Price</th>\n",
       "    </tr>\n",
       "  </thead>\n",
       "  <tbody>\n",
       "    <tr>\n",
       "      <th>0</th>\n",
       "      <td>0</td>\n",
       "      <td>Lisim78</td>\n",
       "      <td>20</td>\n",
       "      <td>Male</td>\n",
       "      <td>108</td>\n",
       "      <td>Extraction, Quickblade Of Trembling Hands</td>\n",
       "      <td>3.53</td>\n",
       "    </tr>\n",
       "    <tr>\n",
       "      <th>1</th>\n",
       "      <td>1</td>\n",
       "      <td>Lisovynya38</td>\n",
       "      <td>40</td>\n",
       "      <td>Male</td>\n",
       "      <td>143</td>\n",
       "      <td>Frenzied Scimitar</td>\n",
       "      <td>1.56</td>\n",
       "    </tr>\n",
       "    <tr>\n",
       "      <th>2</th>\n",
       "      <td>2</td>\n",
       "      <td>Ithergue48</td>\n",
       "      <td>24</td>\n",
       "      <td>Male</td>\n",
       "      <td>92</td>\n",
       "      <td>Final Critic</td>\n",
       "      <td>4.88</td>\n",
       "    </tr>\n",
       "    <tr>\n",
       "      <th>3</th>\n",
       "      <td>3</td>\n",
       "      <td>Chamassasya86</td>\n",
       "      <td>24</td>\n",
       "      <td>Male</td>\n",
       "      <td>100</td>\n",
       "      <td>Blindscythe</td>\n",
       "      <td>3.27</td>\n",
       "    </tr>\n",
       "    <tr>\n",
       "      <th>4</th>\n",
       "      <td>4</td>\n",
       "      <td>Iskosia90</td>\n",
       "      <td>23</td>\n",
       "      <td>Male</td>\n",
       "      <td>131</td>\n",
       "      <td>Fury</td>\n",
       "      <td>1.44</td>\n",
       "    </tr>\n",
       "  </tbody>\n",
       "</table>\n",
       "</div>"
      ],
      "text/plain": [
       "   Purchase ID             SN  Age Gender  Item ID  \\\n",
       "0            0        Lisim78   20   Male      108   \n",
       "1            1    Lisovynya38   40   Male      143   \n",
       "2            2     Ithergue48   24   Male       92   \n",
       "3            3  Chamassasya86   24   Male      100   \n",
       "4            4      Iskosia90   23   Male      131   \n",
       "\n",
       "                                   Item Name  Price  \n",
       "0  Extraction, Quickblade Of Trembling Hands   3.53  \n",
       "1                          Frenzied Scimitar   1.56  \n",
       "2                               Final Critic   4.88  \n",
       "3                                Blindscythe   3.27  \n",
       "4                                       Fury   1.44  "
      ]
     },
     "execution_count": 2,
     "metadata": {},
     "output_type": "execute_result"
    }
   ],
   "source": [
    "# Step 1: Import my dependencies\n",
    "import pandas as pd\n",
    "# Step 2: Set up the file path and download the information as a dataframe\n",
    "file_to_load = \"Resources/purchase_data.csv\"\n",
    "#read my data and store it as a dataframe\n",
    "purchase_data = pd.read_csv(file_to_load)\n",
    "purchase_data.head()"
   ]
  },
  {
   "cell_type": "code",
   "execution_count": 3,
   "metadata": {},
   "outputs": [
    {
     "data": {
      "text/html": [
       "<div>\n",
       "<style scoped>\n",
       "    .dataframe tbody tr th:only-of-type {\n",
       "        vertical-align: middle;\n",
       "    }\n",
       "\n",
       "    .dataframe tbody tr th {\n",
       "        vertical-align: top;\n",
       "    }\n",
       "\n",
       "    .dataframe thead th {\n",
       "        text-align: right;\n",
       "    }\n",
       "</style>\n",
       "<table border=\"1\" class=\"dataframe\">\n",
       "  <thead>\n",
       "    <tr style=\"text-align: right;\">\n",
       "      <th></th>\n",
       "      <th>Total Users</th>\n",
       "    </tr>\n",
       "  </thead>\n",
       "  <tbody>\n",
       "    <tr>\n",
       "      <th>0</th>\n",
       "      <td>576</td>\n",
       "    </tr>\n",
       "  </tbody>\n",
       "</table>\n",
       "</div>"
      ],
      "text/plain": [
       "   Total Users\n",
       "0          576"
      ]
     },
     "execution_count": 3,
     "metadata": {},
     "output_type": "execute_result"
    }
   ],
   "source": [
    "# Step 3: Get a count of the number of users in the game.\n",
    "#The following code pulls only the unique SN values \n",
    "unique_users = purchase_data.drop_duplicates(\"SN\")\n",
    "users = len(unique_users[\"SN\"])\n",
    "summary_users = pd.DataFrame({\"Total Users\":[users]})\n",
    "summary_users"
   ]
  },
  {
   "cell_type": "code",
   "execution_count": 4,
   "metadata": {},
   "outputs": [
    {
     "data": {
      "text/plain": [
       "Index(['Purchase ID', 'SN', 'Age', 'Gender', 'Item ID', 'Item Name', 'Price'], dtype='object')"
      ]
     },
     "execution_count": 4,
     "metadata": {},
     "output_type": "execute_result"
    }
   ],
   "source": [
    "#Step 4: Perform basic calculations to discover number of items, average price, number of purchases, and total revenue.\n",
    "purchase_data.columns"
   ]
  },
  {
   "cell_type": "code",
   "execution_count": 5,
   "metadata": {},
   "outputs": [
    {
     "data": {
      "text/plain": [
       "183"
      ]
     },
     "execution_count": 5,
     "metadata": {},
     "output_type": "execute_result"
    }
   ],
   "source": [
    "#calculate number of items\n",
    "# the following code pulls only the unique item ID's\n",
    "unique_items = purchase_data.drop_duplicates(\"Item ID\")\n",
    "item_num = len(unique_items[\"Item ID\"])\n",
    "item_num"
   ]
  },
  {
   "cell_type": "code",
   "execution_count": 6,
   "metadata": {},
   "outputs": [
    {
     "name": "stdout",
     "output_type": "stream",
     "text": [
      "3.05\n"
     ]
    }
   ],
   "source": [
    "#calculate average price\n",
    "price_avg = round(purchase_data[\"Price\"].mean(),2)\n",
    "print(price_avg)"
   ]
  },
  {
   "cell_type": "code",
   "execution_count": 7,
   "metadata": {},
   "outputs": [
    {
     "data": {
      "text/plain": [
       "780"
      ]
     },
     "execution_count": 7,
     "metadata": {},
     "output_type": "execute_result"
    }
   ],
   "source": [
    "#calculate number of purchases made\n",
    "unique_purchases = purchase_data.drop_duplicates(\"Purchase ID\")\n",
    "purchases = len(unique_purchases[\"Purchase ID\"])\n",
    "purchases"
   ]
  },
  {
   "cell_type": "code",
   "execution_count": 8,
   "metadata": {},
   "outputs": [
    {
     "data": {
      "text/plain": [
       "2379.77"
      ]
     },
     "execution_count": 8,
     "metadata": {},
     "output_type": "execute_result"
    }
   ],
   "source": [
    "#calculate total revenue\n",
    "revenue = purchase_data[\"Price\"].sum()\n",
    "revenue"
   ]
  },
  {
   "cell_type": "code",
   "execution_count": 9,
   "metadata": {},
   "outputs": [
    {
     "data": {
      "text/html": [
       "<div>\n",
       "<style scoped>\n",
       "    .dataframe tbody tr th:only-of-type {\n",
       "        vertical-align: middle;\n",
       "    }\n",
       "\n",
       "    .dataframe tbody tr th {\n",
       "        vertical-align: top;\n",
       "    }\n",
       "\n",
       "    .dataframe thead th {\n",
       "        text-align: right;\n",
       "    }\n",
       "</style>\n",
       "<table border=\"1\" class=\"dataframe\">\n",
       "  <thead>\n",
       "    <tr style=\"text-align: right;\">\n",
       "      <th></th>\n",
       "      <th>Number of Items</th>\n",
       "      <th>Total Average</th>\n",
       "      <th>Number of Purchases</th>\n",
       "      <th>Total Revenue</th>\n",
       "    </tr>\n",
       "  </thead>\n",
       "  <tbody>\n",
       "    <tr>\n",
       "      <th>0</th>\n",
       "      <td>183</td>\n",
       "      <td>$3.05</td>\n",
       "      <td>780</td>\n",
       "      <td>$2379.77</td>\n",
       "    </tr>\n",
       "  </tbody>\n",
       "</table>\n",
       "</div>"
      ],
      "text/plain": [
       "   Number of Items Total Average  Number of Purchases Total Revenue\n",
       "0              183         $3.05                  780      $2379.77"
      ]
     },
     "execution_count": 9,
     "metadata": {},
     "output_type": "execute_result"
    }
   ],
   "source": [
    "# Now this needs to be formated into a table that I can show to everyone\n",
    "summary_table_purchases = pd.DataFrame({\"Number of Items\": [item_num],\n",
    "                                        \"Total Average\": [price_avg],\n",
    "                                        \"Number of Purchases\": [purchases],\n",
    "                                        \"Total Revenue\": [revenue]})\n",
    "#applying special formatting so that everything is more readable\n",
    "summary_table_purchases[\"Total Average\"] = summary_table_purchases[\"Total Average\"].map(\"${:.2f}\".format)\n",
    "summary_table_purchases[\"Total Revenue\"] = summary_table_purchases[\"Total Revenue\"].map(\"${:.2f}\".format)\n",
    "\n",
    "#display the table\n",
    "summary_table_purchases"
   ]
  },
  {
   "cell_type": "code",
   "execution_count": 10,
   "metadata": {},
   "outputs": [
    {
     "name": "stdout",
     "output_type": "stream",
     "text": [
      "484\n",
      "84.0\n"
     ]
    }
   ],
   "source": [
    "#Next we need to do gender demographics.  I'll pull a list from the unique players guide for that.\n",
    "#first males\n",
    "males = len(unique_users.loc[unique_users[\"Gender\"] == \"Male\",:]) \n",
    "male_percent = round(males/users,2)*100\n",
    "print(males)\n",
    "print(male_percent)"
   ]
  },
  {
   "cell_type": "code",
   "execution_count": 11,
   "metadata": {},
   "outputs": [
    {
     "name": "stdout",
     "output_type": "stream",
     "text": [
      "81\n",
      "14.000000000000002\n"
     ]
    }
   ],
   "source": [
    "#Next Females\n",
    "females = len(unique_users.loc[unique_users[\"Gender\"]== \"Female\",:])\n",
    "female_percent = round(females/users,2)*100\n",
    "print(females)\n",
    "print(female_percent)"
   ]
  },
  {
   "cell_type": "code",
   "execution_count": 12,
   "metadata": {},
   "outputs": [
    {
     "name": "stdout",
     "output_type": "stream",
     "text": [
      "11\n",
      "2.0\n"
     ]
    }
   ],
   "source": [
    "#Finally other\n",
    "others = len(unique_users.loc[unique_users[\"Gender\"] == \"Other / Non-Disclosed\",:])\n",
    "others_percent = round(others/users,2)*100\n",
    "print(others)\n",
    "print(others_percent)"
   ]
  },
  {
   "cell_type": "code",
   "execution_count": 13,
   "metadata": {},
   "outputs": [
    {
     "data": {
      "text/html": [
       "<div>\n",
       "<style scoped>\n",
       "    .dataframe tbody tr th:only-of-type {\n",
       "        vertical-align: middle;\n",
       "    }\n",
       "\n",
       "    .dataframe tbody tr th {\n",
       "        vertical-align: top;\n",
       "    }\n",
       "\n",
       "    .dataframe thead th {\n",
       "        text-align: right;\n",
       "    }\n",
       "</style>\n",
       "<table border=\"1\" class=\"dataframe\">\n",
       "  <thead>\n",
       "    <tr style=\"text-align: right;\">\n",
       "      <th></th>\n",
       "      <th>Users</th>\n",
       "      <th>Percentages</th>\n",
       "    </tr>\n",
       "  </thead>\n",
       "  <tbody>\n",
       "    <tr>\n",
       "      <th>Male</th>\n",
       "      <td>484</td>\n",
       "      <td>84%</td>\n",
       "    </tr>\n",
       "    <tr>\n",
       "      <th>Female</th>\n",
       "      <td>81</td>\n",
       "      <td>14%</td>\n",
       "    </tr>\n",
       "    <tr>\n",
       "      <th>Other / Non-Disclosed</th>\n",
       "      <td>11</td>\n",
       "      <td>2%</td>\n",
       "    </tr>\n",
       "  </tbody>\n",
       "</table>\n",
       "</div>"
      ],
      "text/plain": [
       "                       Users Percentages\n",
       "Male                     484         84%\n",
       "Female                    81         14%\n",
       "Other / Non-Disclosed     11          2%"
      ]
     },
     "execution_count": 13,
     "metadata": {},
     "output_type": "execute_result"
    }
   ],
   "source": [
    "#Now to create the table\n",
    "summary_table_gender = pd.DataFrame({\"Users\": [males, females, others],\n",
    "                                        \"Percentages\": [male_percent,female_percent,others_percent]},\n",
    "                                   index=[\"Male\",\"Female\",\"Other / Non-Disclosed\"])\n",
    "#formatting\n",
    "summary_table_gender[\"Percentages\"] = summary_table_gender[\"Percentages\"].map(\"{:.0f}%\".format)\n",
    "\n",
    "summary_table_gender"
   ]
  },
  {
   "cell_type": "code",
   "execution_count": 14,
   "metadata": {},
   "outputs": [
    {
     "data": {
      "text/plain": [
       "Index(['Purchase ID', 'SN', 'Age', 'Gender', 'Item ID', 'Item Name', 'Price'], dtype='object')"
      ]
     },
     "execution_count": 14,
     "metadata": {},
     "output_type": "execute_result"
    }
   ],
   "source": [
    "purchase_data.columns"
   ]
  },
  {
   "cell_type": "code",
   "execution_count": 15,
   "metadata": {},
   "outputs": [],
   "source": [
    "#Next we need a purchasing analysis by gender.  This will go over purchase count, average purchase price, total purchase value,\n",
    "#average purchase total per person by gender\n",
    "\n",
    "gender_purchases = purchase_data[[\"Purchase ID\",\"SN\",\"Gender\",\"Price\"]]\n"
   ]
  },
  {
   "cell_type": "code",
   "execution_count": 16,
   "metadata": {},
   "outputs": [
    {
     "data": {
      "text/plain": [
       "Gender                 SN           \n",
       "Female                 Adastirin33      4.480\n",
       "                       Aerithllora36    4.320\n",
       "                       Aethedru70       3.540\n",
       "                       Aidain51         3.450\n",
       "                       Aiduesu86        4.480\n",
       "                                        ...  \n",
       "Other / Non-Disclosed  Lirtim36         1.330\n",
       "                       Maluncil97       2.640\n",
       "                       Rairith81        2.220\n",
       "                       Siarithria38     3.455\n",
       "                       Sundim98         4.750\n",
       "Name: Price, Length: 576, dtype: float64"
      ]
     },
     "execution_count": 16,
     "metadata": {},
     "output_type": "execute_result"
    }
   ],
   "source": [
    "#Purchases per gender\n",
    "gender_gp = gender_purchases.groupby(\"Gender\").count()\n",
    "purchase_gen = gender_gp[\"Purchase ID\"]\n",
    "#Average purchase price per gender\n",
    "average_gp = gender_purchases.groupby(\"Gender\").mean()\n",
    "average_gen = average_gp[\"Price\"]\n",
    "#Total Purchase values\n",
    "sum_gp = gender_purchases.groupby(\"Gender\").sum()\n",
    "sum_gp[\"Price\"]\n",
    "#When it's asking for average purchse total per person by gender, is this what they mean?\n",
    "gender_individual = gender_purchases.groupby([\"Gender\",\"SN\"]).mean()\n",
    "gender_individual[\"Price\"]"
   ]
  },
  {
   "cell_type": "markdown",
   "metadata": {},
   "source": [
    "###Age Demographics"
   ]
  },
  {
   "cell_type": "code",
   "execution_count": 17,
   "metadata": {},
   "outputs": [
    {
     "name": "stderr",
     "output_type": "stream",
     "text": [
      "C:\\Users\\Samsung\\Anaconda3\\envs\\PythonData\\lib\\site-packages\\ipykernel_launcher.py:4: SettingWithCopyWarning: \n",
      "A value is trying to be set on a copy of a slice from a DataFrame.\n",
      "Try using .loc[row_indexer,col_indexer] = value instead\n",
      "\n",
      "See the caveats in the documentation: http://pandas.pydata.org/pandas-docs/stable/user_guide/indexing.html#returning-a-view-versus-a-copy\n",
      "  after removing the cwd from sys.path.\n"
     ]
    },
    {
     "data": {
      "text/plain": [
       "Age Demographics  SN           \n",
       "7-10              Adairialis76    NaN\n",
       "                  Adastirin33     NaN\n",
       "                  Aeda94          NaN\n",
       "                  Aela59          NaN\n",
       "                  Aelaria33       NaN\n",
       "                                   ..\n",
       "47-50             Yathecal82      NaN\n",
       "                  Yathedeu43      NaN\n",
       "                  Yoishirrala98   NaN\n",
       "                  Zhisrisu83      NaN\n",
       "                  Zontibe81       NaN\n",
       "Name: Price, Length: 6336, dtype: float64"
      ]
     },
     "execution_count": 17,
     "metadata": {},
     "output_type": "execute_result"
    }
   ],
   "source": [
    "unique_users[\"Age\"].max()\n",
    "bins = [6,10,14,18,22,26,30,34,38,42,46,50]\n",
    "group_names = [\"7-10\",\"11-14\",\"15-18\",\"19-22\",\"23-26\",\"27-30\",\"31-34\",\"35-38\",\"39-42\",\"43-46\",\"47-50\"]\n",
    "unique_users[\"Age Demographics\"]= pd.cut(unique_users[\"Age\"],bins,labels = group_names)\n",
    "unique_users\n",
    "age_demo = unique_users.groupby(\"Age Demographics\")\n",
    "#purchase count\n",
    "age_demo[\"Purchase ID\"].count()\n",
    "#average purchase price\n",
    "age_demo[\"Price\"].mean()\n",
    "#total purchase value\n",
    "age_demo[\"Price\"].sum()\n",
    "#Average p total per Person by Age Group\n",
    "age_individual = unique_users.groupby([\"Age Demographics\",\"SN\"])\n",
    "age_individual[\"Price\"].mean()\n"
   ]
  },
  {
   "cell_type": "code",
   "execution_count": 86,
   "metadata": {},
   "outputs": [
    {
     "name": "stdout",
     "output_type": "stream",
     "text": [
      "             # of Purchases Avg Purchase Total Spent\n",
      "SN                                                  \n",
      "Lisosia93                 5        $3.79      $18.96\n",
      "Idastidru52               4        $3.86      $15.45\n",
      "Chamjask73                3        $4.61      $13.83\n",
      "Iral74                    4        $3.40      $13.62\n",
      "Iskadarya95               3        $4.37      $13.10\n"
     ]
    },
    {
     "name": "stderr",
     "output_type": "stream",
     "text": [
      "C:\\Users\\Samsung\\Anaconda3\\envs\\PythonData\\lib\\site-packages\\ipykernel_launcher.py:20: SettingWithCopyWarning: \n",
      "A value is trying to be set on a copy of a slice from a DataFrame.\n",
      "Try using .loc[row_indexer,col_indexer] = value instead\n",
      "\n",
      "See the caveats in the documentation: http://pandas.pydata.org/pandas-docs/stable/user_guide/indexing.html#returning-a-view-versus-a-copy\n",
      "C:\\Users\\Samsung\\Anaconda3\\envs\\PythonData\\lib\\site-packages\\ipykernel_launcher.py:21: SettingWithCopyWarning: \n",
      "A value is trying to be set on a copy of a slice from a DataFrame.\n",
      "Try using .loc[row_indexer,col_indexer] = value instead\n",
      "\n",
      "See the caveats in the documentation: http://pandas.pydata.org/pandas-docs/stable/user_guide/indexing.html#returning-a-view-versus-a-copy\n"
     ]
    }
   ],
   "source": [
    "#Top Spenders\n",
    "\n",
    "#Create a group.by object by screen name\n",
    "top_spenders = purchase_data.groupby(purchase_data[\"SN\"])\n",
    "#Create a dataframe using total price\n",
    "newdf = pd.DataFrame(top_spenders['Price'].sum())\n",
    "#Add new '# of Purchases' column drawing from the group.by object's price count\n",
    "newdf['# of Purchases'] = top_spenders['Price'].count()\n",
    "#Add new 'Avg Purchase' column from group.by object's price average\n",
    "newdf['Avg Purchase'] = top_spenders['Price'].mean()\n",
    "#Reorganize the column order\n",
    "newdf = newdf[[\"# of Purchases\",\"Avg Purchase\",\"Price\"]]\n",
    "#Changed name of column from Price to Total Spent\n",
    "newdf = newdf.rename(columns={'Price':'Total Spent'})\n",
    "#Sort by Total Spent with the highest values at the top\n",
    "newdf = newdf.sort_values('Total Spent',ascending = False)\n",
    "#Pull only the top 5 rows from the altered dataset\n",
    "top_5 = newdf.iloc[0:5, :]\n",
    "#Reformate the Average Purchase and Total spent columns to read as dollars\n",
    "top_5[\"Avg Purchase\"] = top_5[\"Avg Purchase\"].map(\"${:.2f}\".format)\n",
    "top_5[\"Total Spent\"] = top_5[\"Total Spent\"].map(\"${:.2f}\".format)\n",
    "#Display the Table\n",
    "print(top_5)"
   ]
  },
  {
   "cell_type": "code",
   "execution_count": 48,
   "metadata": {},
   "outputs": [
    {
     "data": {
      "text/plain": [
       "Index(['Purchase ID', 'SN', 'Age', 'Gender', 'Item ID', 'Item Name', 'Price'], dtype='object')"
      ]
     },
     "execution_count": 48,
     "metadata": {},
     "output_type": "execute_result"
    }
   ],
   "source": [
    "purchase_data.columns"
   ]
  },
  {
   "cell_type": "code",
   "execution_count": 87,
   "metadata": {},
   "outputs": [
    {
     "data": {
      "text/html": [
       "<div>\n",
       "<style scoped>\n",
       "    .dataframe tbody tr th:only-of-type {\n",
       "        vertical-align: middle;\n",
       "    }\n",
       "\n",
       "    .dataframe tbody tr th {\n",
       "        vertical-align: top;\n",
       "    }\n",
       "\n",
       "    .dataframe thead th {\n",
       "        text-align: right;\n",
       "    }\n",
       "</style>\n",
       "<table border=\"1\" class=\"dataframe\">\n",
       "  <thead>\n",
       "    <tr style=\"text-align: right;\">\n",
       "      <th></th>\n",
       "      <th></th>\n",
       "      <th></th>\n",
       "      <th># of Purchases</th>\n",
       "      <th>Total Revenue</th>\n",
       "    </tr>\n",
       "    <tr>\n",
       "      <th>Item ID</th>\n",
       "      <th>Item Name</th>\n",
       "      <th>Price</th>\n",
       "      <th></th>\n",
       "      <th></th>\n",
       "    </tr>\n",
       "  </thead>\n",
       "  <tbody>\n",
       "    <tr>\n",
       "      <th>178</th>\n",
       "      <th>Oathbreaker, Last Hope of the Breaking Storm</th>\n",
       "      <th>4.23</th>\n",
       "      <td>12</td>\n",
       "      <td>50.76</td>\n",
       "    </tr>\n",
       "    <tr>\n",
       "      <th>145</th>\n",
       "      <th>Fiery Glass Crusader</th>\n",
       "      <th>4.58</th>\n",
       "      <td>9</td>\n",
       "      <td>41.22</td>\n",
       "    </tr>\n",
       "    <tr>\n",
       "      <th>108</th>\n",
       "      <th>Extraction, Quickblade Of Trembling Hands</th>\n",
       "      <th>3.53</th>\n",
       "      <td>9</td>\n",
       "      <td>31.77</td>\n",
       "    </tr>\n",
       "    <tr>\n",
       "      <th>82</th>\n",
       "      <th>Nirvana</th>\n",
       "      <th>4.90</th>\n",
       "      <td>9</td>\n",
       "      <td>44.10</td>\n",
       "    </tr>\n",
       "    <tr>\n",
       "      <th>19</th>\n",
       "      <th>Pursuit, Cudgel of Necromancy</th>\n",
       "      <th>1.02</th>\n",
       "      <td>8</td>\n",
       "      <td>8.16</td>\n",
       "    </tr>\n",
       "  </tbody>\n",
       "</table>\n",
       "</div>"
      ],
      "text/plain": [
       "                                                            # of Purchases  \\\n",
       "Item ID Item Name                                    Price                   \n",
       "178     Oathbreaker, Last Hope of the Breaking Storm 4.23               12   \n",
       "145     Fiery Glass Crusader                         4.58                9   \n",
       "108     Extraction, Quickblade Of Trembling Hands    3.53                9   \n",
       "82      Nirvana                                      4.90                9   \n",
       "19      Pursuit, Cudgel of Necromancy                1.02                8   \n",
       "\n",
       "                                                            Total Revenue  \n",
       "Item ID Item Name                                    Price                 \n",
       "178     Oathbreaker, Last Hope of the Breaking Storm 4.23           50.76  \n",
       "145     Fiery Glass Crusader                         4.58           41.22  \n",
       "108     Extraction, Quickblade Of Trembling Hands    3.53           31.77  \n",
       "82      Nirvana                                      4.90           44.10  \n",
       "19      Pursuit, Cudgel of Necromancy                1.02            8.16  "
      ]
     },
     "execution_count": 87,
     "metadata": {},
     "output_type": "execute_result"
    }
   ],
   "source": [
    "#Top Items by Purchase Count\n",
    "#Pull a group.by object sorted by Item ID and Item Name\n",
    "top_items = purchase_data.groupby([\"Item ID\",\"Item Name\"])\n",
    "#Create a dataframe from the groupby object, drawing the value counts of the prices of the objects\n",
    "item_df = pd.DataFrame(top_items['Price'].value_counts())\n",
    "#Rename the second price column as # of Purchases\n",
    "item_df = item_df.rename(columns={\"Price\":\"# of Purchases\"})\n",
    "#Create the total revenue column from the groupby object focused on the sum of the price\n",
    "item_df[\"Total Revenue\"] = top_items[\"Price\"].sum()\n",
    "#Sort in descending order by the # of purchases of the item\n",
    "item_df = item_df.sort_values('# of Purchases',ascending = False)\n",
    "#Get only the top 5 items\n",
    "top_5_items = item_df.iloc[0:5, :]\n",
    "#format\n",
    "#display\n",
    "print(top_5_items)"
   ]
  },
  {
   "cell_type": "code",
   "execution_count": 88,
   "metadata": {},
   "outputs": [
    {
     "data": {
      "text/html": [
       "<div>\n",
       "<style scoped>\n",
       "    .dataframe tbody tr th:only-of-type {\n",
       "        vertical-align: middle;\n",
       "    }\n",
       "\n",
       "    .dataframe tbody tr th {\n",
       "        vertical-align: top;\n",
       "    }\n",
       "\n",
       "    .dataframe thead th {\n",
       "        text-align: right;\n",
       "    }\n",
       "</style>\n",
       "<table border=\"1\" class=\"dataframe\">\n",
       "  <thead>\n",
       "    <tr style=\"text-align: right;\">\n",
       "      <th></th>\n",
       "      <th></th>\n",
       "      <th></th>\n",
       "      <th># of Purchases</th>\n",
       "      <th>Total Revenue</th>\n",
       "    </tr>\n",
       "    <tr>\n",
       "      <th>Item ID</th>\n",
       "      <th>Item Name</th>\n",
       "      <th>Price</th>\n",
       "      <th></th>\n",
       "      <th></th>\n",
       "    </tr>\n",
       "  </thead>\n",
       "  <tbody>\n",
       "    <tr>\n",
       "      <th>178</th>\n",
       "      <th>Oathbreaker, Last Hope of the Breaking Storm</th>\n",
       "      <th>4.23</th>\n",
       "      <td>12</td>\n",
       "      <td>50.76</td>\n",
       "    </tr>\n",
       "    <tr>\n",
       "      <th>82</th>\n",
       "      <th>Nirvana</th>\n",
       "      <th>4.90</th>\n",
       "      <td>9</td>\n",
       "      <td>44.10</td>\n",
       "    </tr>\n",
       "    <tr>\n",
       "      <th>145</th>\n",
       "      <th>Fiery Glass Crusader</th>\n",
       "      <th>4.58</th>\n",
       "      <td>9</td>\n",
       "      <td>41.22</td>\n",
       "    </tr>\n",
       "    <tr>\n",
       "      <th>92</th>\n",
       "      <th>Final Critic</th>\n",
       "      <th>4.88</th>\n",
       "      <td>8</td>\n",
       "      <td>39.04</td>\n",
       "    </tr>\n",
       "    <tr>\n",
       "      <th>103</th>\n",
       "      <th>Singed Scalpel</th>\n",
       "      <th>4.35</th>\n",
       "      <td>8</td>\n",
       "      <td>34.80</td>\n",
       "    </tr>\n",
       "  </tbody>\n",
       "</table>\n",
       "</div>"
      ],
      "text/plain": [
       "                                                            # of Purchases  \\\n",
       "Item ID Item Name                                    Price                   \n",
       "178     Oathbreaker, Last Hope of the Breaking Storm 4.23               12   \n",
       "82      Nirvana                                      4.90                9   \n",
       "145     Fiery Glass Crusader                         4.58                9   \n",
       "92      Final Critic                                 4.88                8   \n",
       "103     Singed Scalpel                               4.35                8   \n",
       "\n",
       "                                                            Total Revenue  \n",
       "Item ID Item Name                                    Price                 \n",
       "178     Oathbreaker, Last Hope of the Breaking Storm 4.23           50.76  \n",
       "82      Nirvana                                      4.90           44.10  \n",
       "145     Fiery Glass Crusader                         4.58           41.22  \n",
       "92      Final Critic                                 4.88           39.04  \n",
       "103     Singed Scalpel                               4.35           34.80  "
      ]
     },
     "execution_count": 88,
     "metadata": {},
     "output_type": "execute_result"
    }
   ],
   "source": [
    "#Top Items by Totall Spent\n",
    "item_df2 = item_df.sort_values('Total Revenue',ascending = False)\n",
    "top_5_items2 = item_df2.iloc[0:5, :]\n",
    "top_5_items2"
   ]
  },
  {
   "cell_type": "code",
   "execution_count": null,
   "metadata": {},
   "outputs": [],
   "source": []
  }
 ],
 "metadata": {
  "kernelspec": {
   "display_name": "Python 3",
   "language": "python",
   "name": "python3"
  },
  "language_info": {
   "codemirror_mode": {
    "name": "ipython",
    "version": 3
   },
   "file_extension": ".py",
   "mimetype": "text/x-python",
   "name": "python",
   "nbconvert_exporter": "python",
   "pygments_lexer": "ipython3",
   "version": "3.6.9"
  }
 },
 "nbformat": 4,
 "nbformat_minor": 2
}
